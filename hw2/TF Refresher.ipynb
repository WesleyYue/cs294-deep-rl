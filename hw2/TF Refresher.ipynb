{
 "cells": [
  {
   "cell_type": "code",
   "execution_count": 2,
   "metadata": {},
   "outputs": [],
   "source": [
    "import tensorflow as tf\n",
    "\n",
    "session = tf.InteractiveSession()"
   ]
  },
  {
   "cell_type": "code",
   "execution_count": 17,
   "metadata": {},
   "outputs": [
    {
     "name": "stdout",
     "output_type": "stream",
     "text": [
      "[-0.79827476  0.9403336   0.69752836 -0.9034374  -0.90295386  0.5549493\n",
      "  0.688936   -0.16585016  0.01991677  0.31040502]\n",
      "[[4]]\n",
      "[1.0996778]\n"
     ]
    }
   ],
   "source": [
    "# # creates nodes in a graph\n",
    "# # \"construction phase\"\n",
    "# x1 = tf.constant(5)\n",
    "# x2 = tf.constant(6)\n",
    "\n",
    "rand_uniform = tf.random_uniform([10], minval=-1, maxval=1, seed=0)\n",
    "print(rand_uniform.eval())\n",
    "# log_rand_uniform = tf.log([rand_uniform])\n",
    "# print(log_rand_uniform.eval())\n",
    "print(tf.multinomial([rand_uniform], 1).eval())\n",
    "\n",
    "\n",
    "print(tf.nn.sparse_softmax_cross_entropy_with_logits(labels=[1], logits=[[0.1, 0.22, 0.33]]).eval())"
   ]
  },
  {
   "cell_type": "code",
   "execution_count": 15,
   "metadata": {},
   "outputs": [
    {
     "name": "stdout",
     "output_type": "stream",
     "text": [
      "[0.29532528 0.33297832 0.3716964 ]\n",
      "[-1.21967789 -1.09967789 -0.98967789]\n"
     ]
    }
   ],
   "source": [
    "import numpy as np\n",
    "\n",
    "logits = [0.1, 0.22, 0.33]\n",
    "exps = np.exp(logits)\n",
    "softmax = exps / np.sum(exps)\n",
    "print(softmax)\n",
    "print(np.log(softmax))"
   ]
  },
  {
   "cell_type": "code",
   "execution_count": null,
   "metadata": {},
   "outputs": [],
   "source": []
  }
 ],
 "metadata": {
  "kernelspec": {
   "display_name": "homework-D6bsV7pH",
   "language": "python",
   "name": "homework-d6bsv7ph"
  },
  "language_info": {
   "codemirror_mode": {
    "name": "ipython",
    "version": 3
   },
   "file_extension": ".py",
   "mimetype": "text/x-python",
   "name": "python",
   "nbconvert_exporter": "python",
   "pygments_lexer": "ipython3",
   "version": "3.6.5"
  }
 },
 "nbformat": 4,
 "nbformat_minor": 2
}
